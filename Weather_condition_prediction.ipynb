{
 "cells": [
  {
   "cell_type": "code",
   "execution_count": 2,
   "metadata": {},
   "outputs": [],
   "source": [
    "#inialization set up\n",
    "import numpy as np\n",
    "import pandas as pd\n",
    "import matplotlib.pyplot as plt\n",
    "import seaborn as sns"
   ]
  },
  {
   "cell_type": "code",
   "execution_count": 16,
   "metadata": {},
   "outputs": [],
   "source": [
    "df=pd.read_csv('HURdat_ExtremeWeatherEvents.csv')"
   ]
  },
  {
   "cell_type": "code",
   "execution_count": 17,
   "metadata": {},
   "outputs": [
    {
     "name": "stdout",
     "output_type": "stream",
     "text": [
      "<class 'pandas.core.frame.DataFrame'>\n",
      "RangeIndex: 8793 entries, 0 to 8792\n",
      "Data columns (total 22 columns):\n",
      "Unnamed: 0        8793 non-null int64\n",
      "ID                8793 non-null object\n",
      "Name              8793 non-null object\n",
      "Status            8793 non-null object\n",
      "Latitude          8793 non-null float64\n",
      "Longitude         8793 non-null float64\n",
      "Maximum.Wind      8793 non-null int64\n",
      "date_time         8793 non-null object\n",
      "diff              7065 non-null float64\n",
      "rapid_int         7065 non-null float64\n",
      "i                 8793 non-null int64\n",
      "n                 8793 non-null int64\n",
      "persistence       7515 non-null float64\n",
      "product           7515 non-null float64\n",
      "Initial.Max       8377 non-null float64\n",
      "speed             8375 non-null float64\n",
      "speed_z           8375 non-null float64\n",
      "speed_m           8375 non-null float64\n",
      "Jday              8793 non-null int64\n",
      "Maximum.Wind_p    8377 non-null float64\n",
      "Latitude_p        8377 non-null float64\n",
      "Longitude_p       8377 non-null float64\n",
      "dtypes: float64(13), int64(5), object(4)\n",
      "memory usage: 1.5+ MB\n"
     ]
    }
   ],
   "source": [
    "df.info()"
   ]
  },
  {
   "cell_type": "code",
   "execution_count": 18,
   "metadata": {},
   "outputs": [
    {
     "data": {
      "text/plain": [
       "(8793, 22)"
      ]
     },
     "execution_count": 18,
     "metadata": {},
     "output_type": "execute_result"
    }
   ],
   "source": [
    "df.shape"
   ]
  },
  {
   "cell_type": "code",
   "execution_count": 19,
   "metadata": {},
   "outputs": [
    {
     "data": {
      "text/plain": [
       "<matplotlib.axes._subplots.AxesSubplot at 0x269b2fd31d0>"
      ]
     },
     "execution_count": 19,
     "metadata": {},
     "output_type": "execute_result"
    },
    {
     "data": {
      "image/png": "[encoded data removed]",
      "text/plain": [
       "<Figure size 432x288 with 1 Axes>"
      ]
     },
     "metadata": {
      "needs_background": "light"
     },
     "output_type": "display_data"
    }
   ],
   "source": [
    "sns.countplot(df.rapid_int)"
   ]
  },
  {
   "cell_type": "code",
   "execution_count": 20,
   "metadata": {},
   "outputs": [],
   "source": [
    "df['rapid_int'] = df['rapid_int'].fillna(df['rapid_int'].mode()[0])"
   ]
  },
  {
   "cell_type": "code",
   "execution_count": 21,
   "metadata": {},
   "outputs": [
    {
     "data": {
      "text/plain": [
       "<matplotlib.axes._subplots.AxesSubplot at 0x269b3096908>"
      ]
     },
     "execution_count": 21,
     "metadata": {},
     "output_type": "execute_result"
    },
    {
     "data": {
      "image/png": "[encoded data removed]",
      "text/plain": [
       "<Figure size 432x288 with 1 Axes>"
      ]
     },
     "metadata": {
      "needs_background": "light"
     },
     "output_type": "display_data"
    }
   ],
   "source": [
    "sns.countplot(df.rapid_int)"
   ]
  },
  {
   "cell_type": "code",
   "execution_count": 22,
   "metadata": {},
   "outputs": [],
   "source": [
    "df.drop(columns='Unnamed: 0',axis=1,inplace=True)"
   ]
  },
  {
   "cell_type": "code",
   "execution_count": 23,
   "metadata": {},
   "outputs": [
    {
     "data": {
      "text/html": [
       "<div>\n",
       "<style scoped>\n",
       "    .dataframe tbody tr th:only-of-type {\n",
       "        vertical-align: middle;\n",
       "    }\n",
       "\n",
       "    .dataframe tbody tr th {\n",
       "        vertical-align: top;\n",
       "    }\n",
       "\n",
       "    .dataframe thead th {\n",
       "        text-align: right;\n",
       "    }\n",
       "</style>\n",
       "<table border=\"1\" class=\"dataframe\">\n",
       "  <thead>\n",
       "    <tr style=\"text-align: right;\">\n",
       "      <th></th>\n",
       "      <th>ID</th>\n",
       "      <th>Name</th>\n",
       "      <th>Status</th>\n",
       "      <th>Latitude</th>\n",
       "      <th>Longitude</th>\n",
       "      <th>Maximum.Wind</th>\n",
       "      <th>date_time</th>\n",
       "      <th>diff</th>\n",
       "      <th>rapid_int</th>\n",
       "      <th>i</th>\n",
       "      <th>...</th>\n",
       "      <th>persistence</th>\n",
       "      <th>product</th>\n",
       "      <th>Initial.Max</th>\n",
       "      <th>speed</th>\n",
       "      <th>speed_z</th>\n",
       "      <th>speed_m</th>\n",
       "      <th>Jday</th>\n",
       "      <th>Maximum.Wind_p</th>\n",
       "      <th>Latitude_p</th>\n",
       "      <th>Longitude_p</th>\n",
       "    </tr>\n",
       "  </thead>\n",
       "  <tbody>\n",
       "    <tr>\n",
       "      <th>0</th>\n",
       "      <td>AL011980</td>\n",
       "      <td>UNNAMED</td>\n",
       "      <td>TD</td>\n",
       "      <td>30.5</td>\n",
       "      <td>-76.5</td>\n",
       "      <td>20</td>\n",
       "      <td>7/17/1980 0:00</td>\n",
       "      <td>NaN</td>\n",
       "      <td>0.0</td>\n",
       "      <td>1</td>\n",
       "      <td>...</td>\n",
       "      <td>NaN</td>\n",
       "      <td>NaN</td>\n",
       "      <td>NaN</td>\n",
       "      <td>NaN</td>\n",
       "      <td>NaN</td>\n",
       "      <td>NaN</td>\n",
       "      <td>55</td>\n",
       "      <td>NaN</td>\n",
       "      <td>NaN</td>\n",
       "      <td>NaN</td>\n",
       "    </tr>\n",
       "    <tr>\n",
       "      <th>1</th>\n",
       "      <td>AL011980</td>\n",
       "      <td>UNNAMED</td>\n",
       "      <td>TD</td>\n",
       "      <td>30.2</td>\n",
       "      <td>-77.2</td>\n",
       "      <td>25</td>\n",
       "      <td>7/17/1980 6:00</td>\n",
       "      <td>NaN</td>\n",
       "      <td>0.0</td>\n",
       "      <td>2</td>\n",
       "      <td>...</td>\n",
       "      <td>NaN</td>\n",
       "      <td>NaN</td>\n",
       "      <td>20.0</td>\n",
       "      <td>NaN</td>\n",
       "      <td>NaN</td>\n",
       "      <td>NaN</td>\n",
       "      <td>55</td>\n",
       "      <td>20.0</td>\n",
       "      <td>30.5</td>\n",
       "      <td>-76.5</td>\n",
       "    </tr>\n",
       "    <tr>\n",
       "      <th>2</th>\n",
       "      <td>AL011980</td>\n",
       "      <td>UNNAMED</td>\n",
       "      <td>TD</td>\n",
       "      <td>30.0</td>\n",
       "      <td>-78.0</td>\n",
       "      <td>25</td>\n",
       "      <td>7/17/1980 12:00</td>\n",
       "      <td>NaN</td>\n",
       "      <td>0.0</td>\n",
       "      <td>3</td>\n",
       "      <td>...</td>\n",
       "      <td>NaN</td>\n",
       "      <td>NaN</td>\n",
       "      <td>25.0</td>\n",
       "      <td>NaN</td>\n",
       "      <td>NaN</td>\n",
       "      <td>NaN</td>\n",
       "      <td>55</td>\n",
       "      <td>25.0</td>\n",
       "      <td>30.2</td>\n",
       "      <td>-77.2</td>\n",
       "    </tr>\n",
       "    <tr>\n",
       "      <th>3</th>\n",
       "      <td>AL011980</td>\n",
       "      <td>UNNAMED</td>\n",
       "      <td>TD</td>\n",
       "      <td>29.9</td>\n",
       "      <td>-79.3</td>\n",
       "      <td>25</td>\n",
       "      <td>7/17/1980 18:00</td>\n",
       "      <td>NaN</td>\n",
       "      <td>0.0</td>\n",
       "      <td>4</td>\n",
       "      <td>...</td>\n",
       "      <td>5.0</td>\n",
       "      <td>125.0</td>\n",
       "      <td>25.0</td>\n",
       "      <td>12.869511</td>\n",
       "      <td>0.035365</td>\n",
       "      <td>9.266244</td>\n",
       "      <td>55</td>\n",
       "      <td>25.0</td>\n",
       "      <td>30.0</td>\n",
       "      <td>-78.0</td>\n",
       "    </tr>\n",
       "    <tr>\n",
       "      <th>4</th>\n",
       "      <td>AL011980</td>\n",
       "      <td>UNNAMED</td>\n",
       "      <td>TD</td>\n",
       "      <td>29.8</td>\n",
       "      <td>-80.2</td>\n",
       "      <td>25</td>\n",
       "      <td>7/18/1980 0:00</td>\n",
       "      <td>5.0</td>\n",
       "      <td>0.0</td>\n",
       "      <td>5</td>\n",
       "      <td>...</td>\n",
       "      <td>0.0</td>\n",
       "      <td>0.0</td>\n",
       "      <td>25.0</td>\n",
       "      <td>17.071172</td>\n",
       "      <td>0.035158</td>\n",
       "      <td>9.266244</td>\n",
       "      <td>54</td>\n",
       "      <td>25.0</td>\n",
       "      <td>29.9</td>\n",
       "      <td>-79.3</td>\n",
       "    </tr>\n",
       "  </tbody>\n",
       "</table>\n",
       "<p>5 rows × 21 columns</p>\n",
       "</div>"
      ],
      "text/plain": [
       "         ID                 Name Status  Latitude  Longitude  Maximum.Wind  \\\n",
       "0  AL011980              UNNAMED     TD      30.5      -76.5            20   \n",
       "1  AL011980              UNNAMED     TD      30.2      -77.2            25   \n",
       "2  AL011980              UNNAMED     TD      30.0      -78.0            25   \n",
       "3  AL011980              UNNAMED     TD      29.9      -79.3            25   \n",
       "4  AL011980              UNNAMED     TD      29.8      -80.2            25   \n",
       "\n",
       "         date_time  diff  rapid_int  i  ...  persistence  product  \\\n",
       "0   7/17/1980 0:00   NaN        0.0  1  ...          NaN      NaN   \n",
       "1   7/17/1980 6:00   NaN        0.0  2  ...          NaN      NaN   \n",
       "2  7/17/1980 12:00   NaN        0.0  3  ...          NaN      NaN   \n",
       "3  7/17/1980 18:00   NaN        0.0  4  ...          5.0    125.0   \n",
       "4   7/18/1980 0:00   5.0        0.0  5  ...          0.0      0.0   \n",
       "\n",
       "   Initial.Max      speed   speed_z   speed_m  Jday  Maximum.Wind_p  \\\n",
       "0          NaN        NaN       NaN       NaN    55             NaN   \n",
       "1         20.0        NaN       NaN       NaN    55            20.0   \n",
       "2         25.0        NaN       NaN       NaN    55            25.0   \n",
       "3         25.0  12.869511  0.035365  9.266244    55            25.0   \n",
       "4         25.0  17.071172  0.035158  9.266244    54            25.0   \n",
       "\n",
       "   Latitude_p  Longitude_p  \n",
       "0         NaN          NaN  \n",
       "1        30.5        -76.5  \n",
       "2        30.2        -77.2  \n",
       "3        30.0        -78.0  \n",
       "4        29.9        -79.3  \n",
       "\n",
       "[5 rows x 21 columns]"
      ]
     },
     "execution_count": 23,
     "metadata": {},
     "output_type": "execute_result"
    }
   ],
   "source": [
    "df.head()"
   ]
  },
  {
   "cell_type": "code",
   "execution_count": 25,
   "metadata": {},
   "outputs": [],
   "source": [
    "df.drop(columns='date_time',axis=1,inplace=True)"
   ]
  },
  {
   "cell_type": "code",
   "execution_count": 26,
   "metadata": {},
   "outputs": [
    {
     "data": {
      "text/plain": [
       "(8793, 20)"
      ]
     },
     "execution_count": 26,
     "metadata": {},
     "output_type": "execute_result"
    }
   ],
   "source": [
    "df.shape"
   ]
  },
  {
   "cell_type": "code",
   "execution_count": 27,
   "metadata": {},
   "outputs": [
    {
     "data": {
      "text/plain": [
       "<matplotlib.axes._subplots.AxesSubplot at 0x269b30fee80>"
      ]
     },
     "execution_count": 27,
     "metadata": {},
     "output_type": "execute_result"
    },
    {
     "data": {
      "image/png": "[encoded data removed]",
      "text/plain": [
       "<Figure size 432x288 with 1 Axes>"
      ]
     },
     "metadata": {
      "needs_background": "light"
     },
     "output_type": "display_data"
    }
   ],
   "source": [
    "sns.countplot(df.Status)"
   ]
  },
  {
   "cell_type": "code",
   "execution_count": 28,
   "metadata": {},
   "outputs": [],
   "source": [
    "df['Status'] = df['Status'].fillna(df['Status'].mode()[0])"
   ]
  },
  {
   "cell_type": "code",
   "execution_count": 29,
   "metadata": {},
   "outputs": [
    {
     "data": {
      "text/plain": [
       "<matplotlib.axes._subplots.AxesSubplot at 0x269b3156e80>"
      ]
     },
     "execution_count": 29,
     "metadata": {},
     "output_type": "execute_result"
    },
    {
     "data": {
      "image/png": "[encoded data removed]",
      "text/plain": [
       "<Figure size 432x288 with 1 Axes>"
      ]
     },
     "metadata": {
      "needs_background": "light"
     },
     "output_type": "display_data"
    }
   ],
   "source": [
    "sns.countplot(df.Status)"
   ]
  },
  {
   "cell_type": "code",
   "execution_count": 32,
   "metadata": {},
   "outputs": [
    {
     "data": {
      "text/plain": [
       "0        TD\n",
       "1        TD\n",
       "2        TD\n",
       "3        TD\n",
       "4        TD\n",
       "5        TD\n",
       "6        TD\n",
       "7        TD\n",
       "8        TD\n",
       "9        TD\n",
       "10       TD\n",
       "11       TD\n",
       "12       TD\n",
       "13       TD\n",
       "14       TD\n",
       "15       TD\n",
       "16       TD\n",
       "17       TD\n",
       "18       TD\n",
       "19       TD\n",
       "20       TD\n",
       "21       TS\n",
       "22       TS\n",
       "23       HU\n",
       "24       HU\n",
       "25       TS\n",
       "26       TD\n",
       "27       TD\n",
       "28       TD\n",
       "29       TD\n",
       "       ... \n",
       "8763     HU\n",
       "8764     HU\n",
       "8765     HU\n",
       "8766     HU\n",
       "8767     HU\n",
       "8768     HU\n",
       "8769     HU\n",
       "8770     TS\n",
       "8771     TD\n",
       "8772     TS\n",
       "8773     TS\n",
       "8774     TS\n",
       "8775     TS\n",
       "8776     TS\n",
       "8777     TS\n",
       "8778     TS\n",
       "8779     TS\n",
       "8780     TS\n",
       "8781     TS\n",
       "8782     TS\n",
       "8783     TS\n",
       "8784     TS\n",
       "8785     TS\n",
       "8786     TS\n",
       "8787     TS\n",
       "8788     TS\n",
       "8789     TS\n",
       "8790     TS\n",
       "8791     TS\n",
       "8792     TD\n",
       "Name: Status, Length: 8793, dtype: object"
      ]
     },
     "execution_count": 32,
     "metadata": {},
     "output_type": "execute_result"
    }
   ],
   "source": [
    "df.Status"
   ]
  },
  {
   "cell_type": "code",
   "execution_count": 35,
   "metadata": {},
   "outputs": [
    {
     "data": {
      "text/plain": [
       "['diff',\n",
       " 'persistence',\n",
       " 'product',\n",
       " 'Initial.Max',\n",
       " 'speed',\n",
       " 'speed_z',\n",
       " 'speed_m',\n",
       " 'Maximum.Wind_p',\n",
       " 'Latitude_p',\n",
       " 'Longitude_p']"
      ]
     },
     "execution_count": 35,
     "metadata": {},
     "output_type": "execute_result"
    }
   ],
   "source": [
    "#for getting list of features that contains null values \n",
    "df.columns[df.isna().any()].tolist()"
   ]
  },
  {
   "cell_type": "code",
   "execution_count": 38,
   "metadata": {},
   "outputs": [
    {
     "data": {
      "text/plain": [
       " 0.0      1543\n",
       " 5.0      1303\n",
       " 10.0     1089\n",
       " 15.0      806\n",
       " 20.0      597\n",
       "-5.0       584\n",
       " 25.0      382\n",
       " 30.0      258\n",
       "-10.0      152\n",
       " 35.0      112\n",
       " 40.0       67\n",
       " 45.0       44\n",
       "-15.0       35\n",
       " 50.0       27\n",
       " 55.0       17\n",
       "-20.0       13\n",
       " 65.0        7\n",
       " 60.0        5\n",
       "-25.0        5\n",
       "-129.0       3\n",
       "-124.0       3\n",
       "-30.0        2\n",
       "-40.0        2\n",
       "-35.0        2\n",
       " 85.0        1\n",
       " 90.0        1\n",
       " 95.0        1\n",
       " 75.0        1\n",
       " 18.0        1\n",
       "-55.0        1\n",
       " 70.0        1\n",
       "Name: diff, dtype: int64"
      ]
     },
     "execution_count": 38,
     "metadata": {},
     "output_type": "execute_result"
    }
   ],
   "source": [
    "df['diff'].value_counts()"
   ]
  },
  {
   "cell_type": "code",
   "execution_count": 39,
   "metadata": {},
   "outputs": [
    {
     "data": {
      "text/html": [
       "<div>\n",
       "<style scoped>\n",
       "    .dataframe tbody tr th:only-of-type {\n",
       "        vertical-align: middle;\n",
       "    }\n",
       "\n",
       "    .dataframe tbody tr th {\n",
       "        vertical-align: top;\n",
       "    }\n",
       "\n",
       "    .dataframe thead th {\n",
       "        text-align: right;\n",
       "    }\n",
       "</style>\n",
       "<table border=\"1\" class=\"dataframe\">\n",
       "  <thead>\n",
       "    <tr style=\"text-align: right;\">\n",
       "      <th></th>\n",
       "      <th>Latitude</th>\n",
       "      <th>Longitude</th>\n",
       "      <th>Maximum.Wind</th>\n",
       "      <th>diff</th>\n",
       "      <th>rapid_int</th>\n",
       "      <th>i</th>\n",
       "      <th>n</th>\n",
       "      <th>persistence</th>\n",
       "      <th>product</th>\n",
       "      <th>Initial.Max</th>\n",
       "      <th>speed</th>\n",
       "      <th>speed_z</th>\n",
       "      <th>speed_m</th>\n",
       "      <th>Jday</th>\n",
       "      <th>Maximum.Wind_p</th>\n",
       "      <th>Latitude_p</th>\n",
       "      <th>Longitude_p</th>\n",
       "    </tr>\n",
       "  </thead>\n",
       "  <tbody>\n",
       "    <tr>\n",
       "      <th>count</th>\n",
       "      <td>8793.000000</td>\n",
       "      <td>8793.000000</td>\n",
       "      <td>8793.000000</td>\n",
       "      <td>7065.000000</td>\n",
       "      <td>8793.000000</td>\n",
       "      <td>8793.000000</td>\n",
       "      <td>8793.000000</td>\n",
       "      <td>7515.000000</td>\n",
       "      <td>7515.000000</td>\n",
       "      <td>8377.000000</td>\n",
       "      <td>8375.000000</td>\n",
       "      <td>8375.000000</td>\n",
       "      <td>8.375000e+03</td>\n",
       "      <td>8793.000000</td>\n",
       "      <td>8377.000000</td>\n",
       "      <td>8377.000000</td>\n",
       "      <td>8377.000000</td>\n",
       "    </tr>\n",
       "    <tr>\n",
       "      <th>mean</th>\n",
       "      <td>23.186046</td>\n",
       "      <td>-62.352053</td>\n",
       "      <td>51.210395</td>\n",
       "      <td>9.115924</td>\n",
       "      <td>0.061640</td>\n",
       "      <td>15.524508</td>\n",
       "      <td>37.543728</td>\n",
       "      <td>5.609847</td>\n",
       "      <td>390.272122</td>\n",
       "      <td>56.308583</td>\n",
       "      <td>48.518637</td>\n",
       "      <td>0.028123</td>\n",
       "      <td>9.266244e+00</td>\n",
       "      <td>28.143068</td>\n",
       "      <td>50.900919</td>\n",
       "      <td>22.919792</td>\n",
       "      <td>-62.111329</td>\n",
       "    </tr>\n",
       "    <tr>\n",
       "      <th>std</th>\n",
       "      <td>8.200032</td>\n",
       "      <td>19.786914</td>\n",
       "      <td>26.061894</td>\n",
       "      <td>12.665652</td>\n",
       "      <td>0.240514</td>\n",
       "      <td>13.484012</td>\n",
       "      <td>19.950968</td>\n",
       "      <td>6.734282</td>\n",
       "      <td>636.812735</td>\n",
       "      <td>29.122103</td>\n",
       "      <td>98.820018</td>\n",
       "      <td>0.007536</td>\n",
       "      <td>1.483347e-12</td>\n",
       "      <td>26.271566</td>\n",
       "      <td>25.554383</td>\n",
       "      <td>8.017149</td>\n",
       "      <td>19.730740</td>\n",
       "    </tr>\n",
       "    <tr>\n",
       "      <th>min</th>\n",
       "      <td>7.200000</td>\n",
       "      <td>-109.100000</td>\n",
       "      <td>-99.000000</td>\n",
       "      <td>-129.000000</td>\n",
       "      <td>0.000000</td>\n",
       "      <td>1.000000</td>\n",
       "      <td>2.000000</td>\n",
       "      <td>0.000000</td>\n",
       "      <td>0.000000</td>\n",
       "      <td>15.000000</td>\n",
       "      <td>0.000000</td>\n",
       "      <td>0.010056</td>\n",
       "      <td>9.266244e+00</td>\n",
       "      <td>0.000000</td>\n",
       "      <td>10.000000</td>\n",
       "      <td>7.200000</td>\n",
       "      <td>-108.900000</td>\n",
       "    </tr>\n",
       "    <tr>\n",
       "      <th>25%</th>\n",
       "      <td>16.200000</td>\n",
       "      <td>-78.800000</td>\n",
       "      <td>30.000000</td>\n",
       "      <td>0.000000</td>\n",
       "      <td>0.000000</td>\n",
       "      <td>6.000000</td>\n",
       "      <td>21.000000</td>\n",
       "      <td>0.000000</td>\n",
       "      <td>0.000000</td>\n",
       "      <td>30.000000</td>\n",
       "      <td>13.087994</td>\n",
       "      <td>0.021548</td>\n",
       "      <td>9.266244e+00</td>\n",
       "      <td>9.000000</td>\n",
       "      <td>30.000000</td>\n",
       "      <td>16.000000</td>\n",
       "      <td>-78.500000</td>\n",
       "    </tr>\n",
       "    <tr>\n",
       "      <th>50%</th>\n",
       "      <td>22.300000</td>\n",
       "      <td>-62.600000</td>\n",
       "      <td>45.000000</td>\n",
       "      <td>5.000000</td>\n",
       "      <td>0.000000</td>\n",
       "      <td>11.000000</td>\n",
       "      <td>36.000000</td>\n",
       "      <td>5.000000</td>\n",
       "      <td>175.000000</td>\n",
       "      <td>50.000000</td>\n",
       "      <td>20.210114</td>\n",
       "      <td>0.028492</td>\n",
       "      <td>9.266244e+00</td>\n",
       "      <td>20.000000</td>\n",
       "      <td>45.000000</td>\n",
       "      <td>22.000000</td>\n",
       "      <td>-62.500000</td>\n",
       "    </tr>\n",
       "    <tr>\n",
       "      <th>75%</th>\n",
       "      <td>29.400000</td>\n",
       "      <td>-46.700000</td>\n",
       "      <td>65.000000</td>\n",
       "      <td>15.000000</td>\n",
       "      <td>0.000000</td>\n",
       "      <td>22.000000</td>\n",
       "      <td>52.000000</td>\n",
       "      <td>10.000000</td>\n",
       "      <td>550.000000</td>\n",
       "      <td>70.000000</td>\n",
       "      <td>29.573357</td>\n",
       "      <td>0.034804</td>\n",
       "      <td>9.266244e+00</td>\n",
       "      <td>40.000000</td>\n",
       "      <td>65.000000</td>\n",
       "      <td>29.100000</td>\n",
       "      <td>-46.400000</td>\n",
       "    </tr>\n",
       "    <tr>\n",
       "      <th>max</th>\n",
       "      <td>51.500000</td>\n",
       "      <td>-15.500000</td>\n",
       "      <td>165.000000</td>\n",
       "      <td>95.000000</td>\n",
       "      <td>1.000000</td>\n",
       "      <td>91.000000</td>\n",
       "      <td>96.000000</td>\n",
       "      <td>75.000000</td>\n",
       "      <td>11250.000000</td>\n",
       "      <td>165.000000</td>\n",
       "      <td>739.760330</td>\n",
       "      <td>0.040434</td>\n",
       "      <td>9.266244e+00</td>\n",
       "      <td>253.000000</td>\n",
       "      <td>165.000000</td>\n",
       "      <td>50.800000</td>\n",
       "      <td>-16.800000</td>\n",
       "    </tr>\n",
       "  </tbody>\n",
       "</table>\n",
       "</div>"
      ],
      "text/plain": [
       "          Latitude    Longitude  Maximum.Wind         diff    rapid_int  \\\n",
       "count  8793.000000  8793.000000   8793.000000  7065.000000  8793.000000   \n",
       "mean     23.186046   -62.352053     51.210395     9.115924     0.061640   \n",
       "std       8.200032    19.786914     26.061894    12.665652     0.240514   \n",
       "min       7.200000  -109.100000    -99.000000  -129.000000     0.000000   \n",
       "25%      16.200000   -78.800000     30.000000     0.000000     0.000000   \n",
       "50%      22.300000   -62.600000     45.000000     5.000000     0.000000   \n",
       "75%      29.400000   -46.700000     65.000000    15.000000     0.000000   \n",
       "max      51.500000   -15.500000    165.000000    95.000000     1.000000   \n",
       "\n",
       "                 i            n  persistence       product  Initial.Max  \\\n",
       "count  8793.000000  8793.000000  7515.000000   7515.000000  8377.000000   \n",
       "mean     15.524508    37.543728     5.609847    390.272122    56.308583   \n",
       "std      13.484012    19.950968     6.734282    636.812735    29.122103   \n",
       "min       1.000000     2.000000     0.000000      0.000000    15.000000   \n",
       "25%       6.000000    21.000000     0.000000      0.000000    30.000000   \n",
       "50%      11.000000    36.000000     5.000000    175.000000    50.000000   \n",
       "75%      22.000000    52.000000    10.000000    550.000000    70.000000   \n",
       "max      91.000000    96.000000    75.000000  11250.000000   165.000000   \n",
       "\n",
       "             speed      speed_z       speed_m         Jday  Maximum.Wind_p  \\\n",
       "count  8375.000000  8375.000000  8.375000e+03  8793.000000     8377.000000   \n",
       "mean     48.518637     0.028123  9.266244e+00    28.143068       50.900919   \n",
       "std      98.820018     0.007536  1.483347e-12    26.271566       25.554383   \n",
       "min       0.000000     0.010056  9.266244e+00     0.000000       10.000000   \n",
       "25%      13.087994     0.021548  9.266244e+00     9.000000       30.000000   \n",
       "50%      20.210114     0.028492  9.266244e+00    20.000000       45.000000   \n",
       "75%      29.573357     0.034804  9.266244e+00    40.000000       65.000000   \n",
       "max     739.760330     0.040434  9.266244e+00   253.000000      165.000000   \n",
       "\n",
       "        Latitude_p  Longitude_p  \n",
       "count  8377.000000  8377.000000  \n",
       "mean     22.919792   -62.111329  \n",
       "std       8.017149    19.730740  \n",
       "min       7.200000  -108.900000  \n",
       "25%      16.000000   -78.500000  \n",
       "50%      22.000000   -62.500000  \n",
       "75%      29.100000   -46.400000  \n",
       "max      50.800000   -16.800000  "
      ]
     },
     "execution_count": 39,
     "metadata": {},
     "output_type": "execute_result"
    }
   ],
   "source": [
    "df.describe()"
   ]
  },
  {
   "cell_type": "code",
   "execution_count": 40,
   "metadata": {},
   "outputs": [
    {
     "data": {
      "text/html": [
       "<div>\n",
       "<style scoped>\n",
       "    .dataframe tbody tr th:only-of-type {\n",
       "        vertical-align: middle;\n",
       "    }\n",
       "\n",
       "    .dataframe tbody tr th {\n",
       "        vertical-align: top;\n",
       "    }\n",
       "\n",
       "    .dataframe thead th {\n",
       "        text-align: right;\n",
       "    }\n",
       "</style>\n",
       "<table border=\"1\" class=\"dataframe\">\n",
       "  <thead>\n",
       "    <tr style=\"text-align: right;\">\n",
       "      <th></th>\n",
       "      <th>ID</th>\n",
       "      <th>Name</th>\n",
       "      <th>Status</th>\n",
       "      <th>Latitude</th>\n",
       "      <th>Longitude</th>\n",
       "      <th>Maximum.Wind</th>\n",
       "      <th>diff</th>\n",
       "      <th>rapid_int</th>\n",
       "      <th>i</th>\n",
       "      <th>n</th>\n",
       "      <th>persistence</th>\n",
       "      <th>product</th>\n",
       "      <th>Initial.Max</th>\n",
       "      <th>speed</th>\n",
       "      <th>speed_z</th>\n",
       "      <th>speed_m</th>\n",
       "      <th>Jday</th>\n",
       "      <th>Maximum.Wind_p</th>\n",
       "      <th>Latitude_p</th>\n",
       "      <th>Longitude_p</th>\n",
       "    </tr>\n",
       "  </thead>\n",
       "  <tbody>\n",
       "    <tr>\n",
       "      <th>0</th>\n",
       "      <td>AL011980</td>\n",
       "      <td>UNNAMED</td>\n",
       "      <td>TD</td>\n",
       "      <td>30.5</td>\n",
       "      <td>-76.5</td>\n",
       "      <td>20</td>\n",
       "      <td>NaN</td>\n",
       "      <td>0.0</td>\n",
       "      <td>1</td>\n",
       "      <td>17</td>\n",
       "      <td>NaN</td>\n",
       "      <td>NaN</td>\n",
       "      <td>NaN</td>\n",
       "      <td>NaN</td>\n",
       "      <td>NaN</td>\n",
       "      <td>NaN</td>\n",
       "      <td>55</td>\n",
       "      <td>NaN</td>\n",
       "      <td>NaN</td>\n",
       "      <td>NaN</td>\n",
       "    </tr>\n",
       "    <tr>\n",
       "      <th>1</th>\n",
       "      <td>AL011980</td>\n",
       "      <td>UNNAMED</td>\n",
       "      <td>TD</td>\n",
       "      <td>30.2</td>\n",
       "      <td>-77.2</td>\n",
       "      <td>25</td>\n",
       "      <td>NaN</td>\n",
       "      <td>0.0</td>\n",
       "      <td>2</td>\n",
       "      <td>17</td>\n",
       "      <td>NaN</td>\n",
       "      <td>NaN</td>\n",
       "      <td>20.0</td>\n",
       "      <td>NaN</td>\n",
       "      <td>NaN</td>\n",
       "      <td>NaN</td>\n",
       "      <td>55</td>\n",
       "      <td>20.0</td>\n",
       "      <td>30.5</td>\n",
       "      <td>-76.5</td>\n",
       "    </tr>\n",
       "    <tr>\n",
       "      <th>2</th>\n",
       "      <td>AL011980</td>\n",
       "      <td>UNNAMED</td>\n",
       "      <td>TD</td>\n",
       "      <td>30.0</td>\n",
       "      <td>-78.0</td>\n",
       "      <td>25</td>\n",
       "      <td>NaN</td>\n",
       "      <td>0.0</td>\n",
       "      <td>3</td>\n",
       "      <td>17</td>\n",
       "      <td>NaN</td>\n",
       "      <td>NaN</td>\n",
       "      <td>25.0</td>\n",
       "      <td>NaN</td>\n",
       "      <td>NaN</td>\n",
       "      <td>NaN</td>\n",
       "      <td>55</td>\n",
       "      <td>25.0</td>\n",
       "      <td>30.2</td>\n",
       "      <td>-77.2</td>\n",
       "    </tr>\n",
       "    <tr>\n",
       "      <th>3</th>\n",
       "      <td>AL011980</td>\n",
       "      <td>UNNAMED</td>\n",
       "      <td>TD</td>\n",
       "      <td>29.9</td>\n",
       "      <td>-79.3</td>\n",
       "      <td>25</td>\n",
       "      <td>NaN</td>\n",
       "      <td>0.0</td>\n",
       "      <td>4</td>\n",
       "      <td>17</td>\n",
       "      <td>5.0</td>\n",
       "      <td>125.0</td>\n",
       "      <td>25.0</td>\n",
       "      <td>12.869511</td>\n",
       "      <td>0.035365</td>\n",
       "      <td>9.266244</td>\n",
       "      <td>55</td>\n",
       "      <td>25.0</td>\n",
       "      <td>30.0</td>\n",
       "      <td>-78.0</td>\n",
       "    </tr>\n",
       "    <tr>\n",
       "      <th>4</th>\n",
       "      <td>AL011980</td>\n",
       "      <td>UNNAMED</td>\n",
       "      <td>TD</td>\n",
       "      <td>29.8</td>\n",
       "      <td>-80.2</td>\n",
       "      <td>25</td>\n",
       "      <td>5.0</td>\n",
       "      <td>0.0</td>\n",
       "      <td>5</td>\n",
       "      <td>17</td>\n",
       "      <td>0.0</td>\n",
       "      <td>0.0</td>\n",
       "      <td>25.0</td>\n",
       "      <td>17.071172</td>\n",
       "      <td>0.035158</td>\n",
       "      <td>9.266244</td>\n",
       "      <td>54</td>\n",
       "      <td>25.0</td>\n",
       "      <td>29.9</td>\n",
       "      <td>-79.3</td>\n",
       "    </tr>\n",
       "  </tbody>\n",
       "</table>\n",
       "</div>"
      ],
      "text/plain": [
       "         ID                 Name Status  Latitude  Longitude  Maximum.Wind  \\\n",
       "0  AL011980              UNNAMED     TD      30.5      -76.5            20   \n",
       "1  AL011980              UNNAMED     TD      30.2      -77.2            25   \n",
       "2  AL011980              UNNAMED     TD      30.0      -78.0            25   \n",
       "3  AL011980              UNNAMED     TD      29.9      -79.3            25   \n",
       "4  AL011980              UNNAMED     TD      29.8      -80.2            25   \n",
       "\n",
       "   diff  rapid_int  i   n  persistence  product  Initial.Max      speed  \\\n",
       "0   NaN        0.0  1  17          NaN      NaN          NaN        NaN   \n",
       "1   NaN        0.0  2  17          NaN      NaN         20.0        NaN   \n",
       "2   NaN        0.0  3  17          NaN      NaN         25.0        NaN   \n",
       "3   NaN        0.0  4  17          5.0    125.0         25.0  12.869511   \n",
       "4   5.0        0.0  5  17          0.0      0.0         25.0  17.071172   \n",
       "\n",
       "    speed_z   speed_m  Jday  Maximum.Wind_p  Latitude_p  Longitude_p  \n",
       "0       NaN       NaN    55             NaN         NaN          NaN  \n",
       "1       NaN       NaN    55            20.0        30.5        -76.5  \n",
       "2       NaN       NaN    55            25.0        30.2        -77.2  \n",
       "3  0.035365  9.266244    55            25.0        30.0        -78.0  \n",
       "4  0.035158  9.266244    54            25.0        29.9        -79.3  "
      ]
     },
     "execution_count": 40,
     "metadata": {},
     "output_type": "execute_result"
    }
   ],
   "source": [
    "df.head()"
   ]
  },
  {
   "cell_type": "code",
   "execution_count": 42,
   "metadata": {},
   "outputs": [],
   "source": [
    "df['diff'] = df['diff'].fillna(df['diff'].median())"
   ]
  },
  {
   "cell_type": "code",
   "execution_count": 43,
   "metadata": {},
   "outputs": [
    {
     "data": {
      "text/plain": [
       "['persistence',\n",
       " 'product',\n",
       " 'Initial.Max',\n",
       " 'speed',\n",
       " 'speed_z',\n",
       " 'speed_m',\n",
       " 'Maximum.Wind_p',\n",
       " 'Latitude_p',\n",
       " 'Longitude_p']"
      ]
     },
     "execution_count": 43,
     "metadata": {},
     "output_type": "execute_result"
    }
   ],
   "source": [
    "df.columns[df.isna().any()].tolist()\n"
   ]
  },
  {
   "cell_type": "code",
   "execution_count": 45,
   "metadata": {},
   "outputs": [
    {
     "data": {
      "text/plain": [
       "0.0     3185\n",
       "5.0     2023\n",
       "10.0    1284\n",
       "15.0     585\n",
       "20.0     256\n",
       "25.0      98\n",
       "30.0      47\n",
       "35.0      23\n",
       "45.0       5\n",
       "40.0       4\n",
       "60.0       1\n",
       "50.0       1\n",
       "65.0       1\n",
       "75.0       1\n",
       "8.0        1\n",
       "Name: persistence, dtype: int64"
      ]
     },
     "execution_count": 45,
     "metadata": {},
     "output_type": "execute_result"
    }
   ],
   "source": [
    "df['persistence'].value_counts()"
   ]
  },
  {
   "cell_type": "code",
   "execution_count": 46,
   "metadata": {},
   "outputs": [],
   "source": [
    "df['persistence'] = df['persistence'].fillna(df['persistence'].median())"
   ]
  },
  {
   "cell_type": "code",
   "execution_count": 47,
   "metadata": {},
   "outputs": [
    {
     "data": {
      "text/plain": [
       "0.0        3185\n",
       "150.0       353\n",
       "175.0       281\n",
       "400.0       227\n",
       "450.0       182\n",
       "250.0       177\n",
       "225.0       173\n",
       "200.0       168\n",
       "350.0       168\n",
       "500.0       152\n",
       "600.0       145\n",
       "750.0       141\n",
       "550.0       139\n",
       "275.0       126\n",
       "650.0       108\n",
       "325.0       108\n",
       "300.0       107\n",
       "900.0       103\n",
       "675.0        80\n",
       "700.0        79\n",
       "375.0        68\n",
       "1200.0       66\n",
       "1050.0       66\n",
       "1000.0       58\n",
       "125.0        56\n",
       "825.0        54\n",
       "975.0        52\n",
       "1500.0       41\n",
       "800.0        40\n",
       "1350.0       36\n",
       "           ... \n",
       "2875.0        2\n",
       "3450.0        2\n",
       "2025.0        2\n",
       "4950.0        2\n",
       "4550.0        2\n",
       "3675.0        2\n",
       "100.0         2\n",
       "3850.0        2\n",
       "3150.0        1\n",
       "11250.0       1\n",
       "5250.0        1\n",
       "3325.0        1\n",
       "6525.0        1\n",
       "8450.0        1\n",
       "5200.0        1\n",
       "320.0         1\n",
       "2975.0        1\n",
       "4725.0        1\n",
       "4025.0        1\n",
       "3250.0        1\n",
       "4125.0        1\n",
       "5600.0        1\n",
       "2275.0        1\n",
       "4500.0        1\n",
       "75.0          1\n",
       "2325.0        1\n",
       "6250.0        1\n",
       "5175.0        1\n",
       "9000.0        1\n",
       "5400.0        1\n",
       "Name: product, Length: 122, dtype: int64"
      ]
     },
     "execution_count": 47,
     "metadata": {},
     "output_type": "execute_result"
    }
   ],
   "source": [
    "df['product'].value_counts()"
   ]
  },
  {
   "cell_type": "code",
   "execution_count": 48,
   "metadata": {},
   "outputs": [],
   "source": [
    "df['product'] = df['product'].fillna(df['product'].median())\n",
    "#Initial.Max\n",
    "df['Initial.Max'] = df['Initial.Max'].fillna(df['Initial.Max'].median())\n",
    "#speed\n",
    "df['speed'] = df['speed'].fillna(df['speed'].median())\n",
    "#speed_z\n",
    "df['speed_z'] = df['speed_z'].fillna(df['speed_z'].median())\n",
    "#speed_m\n",
    "df['speed_m'] = df['speed_m'].fillna(df['speed_m'].median())\n",
    "df['Maximum.Wind_p'] = df['Maximum.Wind_p'].fillna(df['Maximum.Wind_p'].median())\n",
    "df['Latitude_p'] = df['Latitude_p'].fillna(df['Latitude_p'].median())\n",
    "df['Longitude_p'] = df['Longitude_p'].fillna(df['Longitude_p'].median())\n"
   ]
  },
  {
   "cell_type": "code",
   "execution_count": 49,
   "metadata": {},
   "outputs": [
    {
     "data": {
      "text/plain": [
       "[]"
      ]
     },
     "execution_count": 49,
     "metadata": {},
     "output_type": "execute_result"
    }
   ],
   "source": [
    "df.columns[df.isna().any()].tolist()\n"
   ]
  },
  {
   "cell_type": "code",
   "execution_count": 50,
   "metadata": {},
   "outputs": [
    {
     "name": "stdout",
     "output_type": "stream",
     "text": [
      "<class 'pandas.core.frame.DataFrame'>\n",
      "RangeIndex: 8793 entries, 0 to 8792\n",
      "Data columns (total 20 columns):\n",
      "ID                8793 non-null object\n",
      "Name              8793 non-null object\n",
      "Status            8793 non-null object\n",
      "Latitude          8793 non-null float64\n",
      "Longitude         8793 non-null float64\n",
      "Maximum.Wind      8793 non-null int64\n",
      "diff              8793 non-null float64\n",
      "rapid_int         8793 non-null float64\n",
      "i                 8793 non-null int64\n",
      "n                 8793 non-null int64\n",
      "persistence       8793 non-null float64\n",
      "product           8793 non-null float64\n",
      "Initial.Max       8793 non-null float64\n",
      "speed             8793 non-null float64\n",
      "speed_z           8793 non-null float64\n",
      "speed_m           8793 non-null float64\n",
      "Jday              8793 non-null int64\n",
      "Maximum.Wind_p    8793 non-null float64\n",
      "Latitude_p        8793 non-null float64\n",
      "Longitude_p       8793 non-null float64\n",
      "dtypes: float64(13), int64(4), object(3)\n",
      "memory usage: 1.3+ MB\n"
     ]
    }
   ],
   "source": [
    "df.info()"
   ]
  },
  {
   "cell_type": "code",
   "execution_count": 51,
   "metadata": {},
   "outputs": [],
   "source": [
    "from sklearn.preprocessing import LabelEncoder\n",
    "lablel_encoder = LabelEncoder()\n",
    "df['ID'] = lablel_encoder.fit_transform(df['ID'])\n",
    "df['Status'] = lablel_encoder.fit_transform(df['Status'])\n",
    "df['Name'] = lablel_encoder.fit_transform(df['Name'])"
   ]
  },
  {
   "cell_type": "code",
   "execution_count": 94,
   "metadata": {},
   "outputs": [],
   "source": [
    "df_final=df.copy()"
   ]
  },
  {
   "cell_type": "code",
   "execution_count": 96,
   "metadata": {},
   "outputs": [],
   "source": [
    "Y=df_final['rapid_int']\n"
   ]
  },
  {
   "cell_type": "code",
   "execution_count": 97,
   "metadata": {},
   "outputs": [],
   "source": [
    "df_final.drop(columns='rapid_int',axis=1,inplace=True)"
   ]
  },
  {
   "cell_type": "code",
   "execution_count": 68,
   "metadata": {},
   "outputs": [],
   "source": [
    "df_final.drop(columns='ID',axis=1,inplace=True)\n",
    "#df_final.drop(columns='Name',axis=1,inplace=True)"
   ]
  },
  {
   "cell_type": "code",
   "execution_count": 98,
   "metadata": {},
   "outputs": [],
   "source": [
    "df_final.drop(columns='diff',axis=1,inplace=True)"
   ]
  },
  {
   "cell_type": "code",
   "execution_count": 113,
   "metadata": {},
   "outputs": [],
   "source": [
    "df_final.drop(columns='Name',axis=1,inplace=True)"
   ]
  },
  {
   "cell_type": "code",
   "execution_count": 114,
   "metadata": {},
   "outputs": [],
   "source": [
    "X=df_final"
   ]
  },
  {
   "cell_type": "code",
   "execution_count": 115,
   "metadata": {},
   "outputs": [
    {
     "name": "stdout",
     "output_type": "stream",
     "text": [
      "<class 'pandas.core.frame.DataFrame'>\n",
      "RangeIndex: 8793 entries, 0 to 8792\n",
      "Data columns (total 17 columns):\n",
      "ID                8793 non-null int32\n",
      "Status            8793 non-null int32\n",
      "Latitude          8793 non-null float64\n",
      "Longitude         8793 non-null float64\n",
      "Maximum.Wind      8793 non-null int64\n",
      "i                 8793 non-null int64\n",
      "n                 8793 non-null int64\n",
      "persistence       8793 non-null float64\n",
      "product           8793 non-null float64\n",
      "Initial.Max       8793 non-null float64\n",
      "speed             8793 non-null float64\n",
      "speed_z           8793 non-null float64\n",
      "speed_m           8793 non-null float64\n",
      "Jday              8793 non-null int64\n",
      "Maximum.Wind_p    8793 non-null float64\n",
      "Latitude_p        8793 non-null float64\n",
      "Longitude_p       8793 non-null float64\n",
      "dtypes: float64(11), int32(2), int64(4)\n",
      "memory usage: 1.1 MB\n"
     ]
    }
   ],
   "source": [
    "X.info()"
   ]
  },
  {
   "cell_type": "code",
   "execution_count": 116,
   "metadata": {},
   "outputs": [],
   "source": [
    "from sklearn.model_selection import train_test_split\n",
    "X_train_stratify, X_test_stratify, y_train_stratify, y_test_stratify = train_test_split(X,Y, test_size=0.3, random_state=42,stratify=Y)"
   ]
  },
  {
   "cell_type": "code",
   "execution_count": 119,
   "metadata": {},
   "outputs": [
    {
     "data": {
      "text/plain": [
       "RandomForestClassifier(bootstrap=True, class_weight=None, criterion='gini',\n",
       "                       max_depth=None, max_features='auto', max_leaf_nodes=None,\n",
       "                       min_impurity_decrease=0.0, min_impurity_split=None,\n",
       "                       min_samples_leaf=1, min_samples_split=2,\n",
       "                       min_weight_fraction_leaf=0.0, n_estimators=100,\n",
       "                       n_jobs=-1, oob_score=False, random_state=5, verbose=0,\n",
       "                       warm_start=False)"
      ]
     },
     "execution_count": 119,
     "metadata": {},
     "output_type": "execute_result"
    }
   ],
   "source": [
    "from sklearn.ensemble import RandomForestClassifier\n",
    "clf = RandomForestClassifier(n_estimators=100, random_state=5, n_jobs=-1)\n",
    "clf.fit(X_train_stratify, y_train_stratify)"
   ]
  },
  {
   "cell_type": "code",
   "execution_count": 120,
   "metadata": {},
   "outputs": [
    {
     "data": {
      "image/png": "[encoded data removed]",
      "text/plain": [
       "<Figure size 432x288 with 1 Axes>"
      ]
     },
     "metadata": {
      "needs_background": "light"
     },
     "output_type": "display_data"
    }
   ],
   "source": [
    "feat_importances = pd.Series(clf.feature_importances_, index=X_train_stratify.columns)\n",
    "feat_importances.nlargest(10).plot(kind='barh')\n",
    "plt.show()"
   ]
  },
  {
   "cell_type": "code",
   "execution_count": 121,
   "metadata": {},
   "outputs": [
    {
     "name": "stdout",
     "output_type": "stream",
     "text": [
      "0.9632297194844579\n",
      "0.7391304347826086\n",
      "0.6257668711656442\n",
      "0.6777408637873753\n",
      "[[2439   36]\n",
      " [  61  102]]\n"
     ]
    }
   ],
   "source": [
    "from sklearn.metrics import f1_score, confusion_matrix\n",
    "from sklearn.metrics import precision_score, recall_score\n",
    "from sklearn.metrics import roc_auc_score\n",
    "y_pred = clf.predict(X_test_stratify)\n",
    "\n",
    "accuracy = clf.score(X_test_stratify,y_test_stratify)\n",
    "\n",
    "print(accuracy)\n",
    "\n",
    "precision = precision_score(y_test_stratify,y_pred)\n",
    "\n",
    "print(precision)\n",
    "\n",
    "recall = recall_score(y_test_stratify,y_pred)\n",
    "\n",
    "print(recall)\n",
    "\n",
    "f1 = f1_score(y_test_stratify,y_pred)\n",
    "\n",
    "print(f1)\n",
    "\n",
    "confusion_mat = confusion_matrix(y_test_stratify,y_pred)\n",
    "\n",
    "print(confusion_mat)"
   ]
  },
  {
   "cell_type": "code",
   "execution_count": 122,
   "metadata": {},
   "outputs": [
    {
     "data": {
      "image/png": "[encoded data removed]",
      "text/plain": [
       "<Figure size 432x288 with 1 Axes>"
      ]
     },
     "metadata": {
      "needs_background": "light"
     },
     "output_type": "display_data"
    }
   ],
   "source": [
    "from sklearn import metrics\n",
    "fpr, tpr, thresholds = metrics.roc_curve(y_test_stratify, clf.predict(X_test_stratify), pos_label=1)\n",
    "roc_auc=metrics.auc(fpr, tpr)\n",
    "from sklearn import metrics\n",
    "fpr, tpr, thresholds = metrics.roc_curve(y_test_stratify, y_pred, pos_label=1)\n",
    "roc_auc=metrics.auc(fpr, tpr)\n",
    "plt.title('Receiver Operating Characteristic')\n",
    "plt.plot(fpr, tpr, 'b', label = 'AUC = %0.2f' % roc_auc)\n",
    "plt.legend(loc = 'lower right')\n",
    "plt.plot([0, 1], [0, 1],'r--')\n",
    "plt.xlim([0, 1])\n",
    "plt.ylim([0, 1])\n",
    "plt.ylabel('True Positive Rate')\n",
    "plt.xlabel('False Positive Rate')\n",
    "plt.show()"
   ]
  },
  {
   "cell_type": "code",
   "execution_count": 123,
   "metadata": {},
   "outputs": [
    {
     "name": "stderr",
     "output_type": "stream",
     "text": [
      "C:\\Users\\aakash uppadhaya\\AppData\\Local\\Continuum\\anaconda3\\lib\\site-packages\\sklearn\\linear_model\\logistic.py:432: FutureWarning: Default solver will be changed to 'lbfgs' in 0.22. Specify a solver to silence this warning.\n",
      "  FutureWarning)\n",
      "C:\\Users\\aakash uppadhaya\\AppData\\Local\\Continuum\\anaconda3\\lib\\site-packages\\sklearn\\linear_model\\logistic.py:432: FutureWarning: Default solver will be changed to 'lbfgs' in 0.22. Specify a solver to silence this warning.\n",
      "  FutureWarning)\n",
      "C:\\Users\\aakash uppadhaya\\AppData\\Local\\Continuum\\anaconda3\\lib\\site-packages\\sklearn\\linear_model\\logistic.py:432: FutureWarning: Default solver will be changed to 'lbfgs' in 0.22. Specify a solver to silence this warning.\n",
      "  FutureWarning)\n",
      "C:\\Users\\aakash uppadhaya\\AppData\\Local\\Continuum\\anaconda3\\lib\\site-packages\\sklearn\\linear_model\\logistic.py:432: FutureWarning: Default solver will be changed to 'lbfgs' in 0.22. Specify a solver to silence this warning.\n",
      "  FutureWarning)\n",
      "C:\\Users\\aakash uppadhaya\\AppData\\Local\\Continuum\\anaconda3\\lib\\site-packages\\sklearn\\linear_model\\logistic.py:432: FutureWarning: Default solver will be changed to 'lbfgs' in 0.22. Specify a solver to silence this warning.\n",
      "  FutureWarning)\n",
      "C:\\Users\\aakash uppadhaya\\AppData\\Local\\Continuum\\anaconda3\\lib\\site-packages\\sklearn\\linear_model\\logistic.py:432: FutureWarning: Default solver will be changed to 'lbfgs' in 0.22. Specify a solver to silence this warning.\n",
      "  FutureWarning)\n",
      "C:\\Users\\aakash uppadhaya\\AppData\\Local\\Continuum\\anaconda3\\lib\\site-packages\\sklearn\\linear_model\\logistic.py:432: FutureWarning: Default solver will be changed to 'lbfgs' in 0.22. Specify a solver to silence this warning.\n",
      "  FutureWarning)\n",
      "C:\\Users\\aakash uppadhaya\\AppData\\Local\\Continuum\\anaconda3\\lib\\site-packages\\sklearn\\linear_model\\logistic.py:432: FutureWarning: Default solver will be changed to 'lbfgs' in 0.22. Specify a solver to silence this warning.\n",
      "  FutureWarning)\n",
      "C:\\Users\\aakash uppadhaya\\AppData\\Local\\Continuum\\anaconda3\\lib\\site-packages\\sklearn\\linear_model\\logistic.py:432: FutureWarning: Default solver will be changed to 'lbfgs' in 0.22. Specify a solver to silence this warning.\n",
      "  FutureWarning)\n",
      "C:\\Users\\aakash uppadhaya\\AppData\\Local\\Continuum\\anaconda3\\lib\\site-packages\\sklearn\\linear_model\\logistic.py:432: FutureWarning: Default solver will be changed to 'lbfgs' in 0.22. Specify a solver to silence this warning.\n",
      "  FutureWarning)\n"
     ]
    },
    {
     "name": "stdout",
     "output_type": "stream",
     "text": [
      "Accuracy: 97.936% (0.455%)\n"
     ]
    }
   ],
   "source": [
    "from sklearn import model_selection\n",
    "from sklearn.linear_model import LogisticRegression\n",
    "kfold = model_selection.KFold(n_splits=10, random_state=42)\n",
    "model = LogisticRegression()\n",
    "results = model_selection.cross_val_score(model, X_train_stratify, y_train_stratify, cv=kfold)\n",
    "print(\"Accuracy: %.3f%% (%.3f%%)\" % (results.mean()*100.0, results.std()*100.0))"
   ]
  },
  {
   "cell_type": "code",
   "execution_count": 124,
   "metadata": {},
   "outputs": [],
   "source": [
    "# save the model to disk\n",
    "import pickle\n",
    "filename = 'Random_Forest'\n",
    "pickle.dump(clf, open(filename, 'wb'))"
   ]
  },
  {
   "cell_type": "code",
   "execution_count": 125,
   "metadata": {},
   "outputs": [
    {
     "name": "stdout",
     "output_type": "stream",
     "text": [
      "0.9632297194844579\n"
     ]
    }
   ],
   "source": [
    "loaded_model = pickle.load(open(filename, 'rb'))\n",
    "result = loaded_model.score(X_test_stratify, y_test_stratify)\n",
    "print(result)"
   ]
  },
  {
   "cell_type": "code",
   "execution_count": 126,
   "metadata": {},
   "outputs": [
    {
     "data": {
      "text/plain": [
       "['Random_Forest.pkl']"
      ]
     },
     "execution_count": 126,
     "metadata": {},
     "output_type": "execute_result"
    }
   ],
   "source": [
    "from sklearn.externals import joblib\n",
    "joblib.dump(clf, 'Random_Forest.pkl')"
   ]
  },
  {
   "cell_type": "code",
   "execution_count": 111,
   "metadata": {},
   "outputs": [
    {
     "data": {
      "text/plain": [
       "2    3656\n",
       "1    2721\n",
       "0    2416\n",
       "Name: Status, dtype: int64"
      ]
     },
     "execution_count": 111,
     "metadata": {},
     "output_type": "execute_result"
    }
   ],
   "source": [
    "df['Status'].value_counts()"
   ]
  },
  {
   "cell_type": "code",
   "execution_count": 129,
   "metadata": {},
   "outputs": [
    {
     "data": {
      "text/plain": [
       "0       1\n",
       "1       1\n",
       "2       1\n",
       "3       1\n",
       "4       1\n",
       "5       1\n",
       "6       1\n",
       "7       1\n",
       "8       1\n",
       "9       1\n",
       "10      1\n",
       "11      1\n",
       "12      1\n",
       "13      1\n",
       "14      1\n",
       "15      1\n",
       "16      1\n",
       "17      1\n",
       "18      1\n",
       "19      1\n",
       "20      1\n",
       "21      2\n",
       "22      2\n",
       "23      0\n",
       "24      0\n",
       "25      2\n",
       "26      1\n",
       "27      1\n",
       "28      1\n",
       "29      1\n",
       "       ..\n",
       "8763    0\n",
       "8764    0\n",
       "8765    0\n",
       "8766    0\n",
       "8767    0\n",
       "8768    0\n",
       "8769    0\n",
       "8770    2\n",
       "8771    1\n",
       "8772    2\n",
       "8773    2\n",
       "8774    2\n",
       "8775    2\n",
       "8776    2\n",
       "8777    2\n",
       "8778    2\n",
       "8779    2\n",
       "8780    2\n",
       "8781    2\n",
       "8782    2\n",
       "8783    2\n",
       "8784    2\n",
       "8785    2\n",
       "8786    2\n",
       "8787    2\n",
       "8788    2\n",
       "8789    2\n",
       "8790    2\n",
       "8791    2\n",
       "8792    1\n",
       "Name: Status, Length: 8793, dtype: int32"
      ]
     },
     "execution_count": 129,
     "metadata": {},
     "output_type": "execute_result"
    }
   ],
   "source": [
    "df['Status']"
   ]
  },
  {
   "cell_type": "code",
   "execution_count": 112,
   "metadata": {},
   "outputs": [
    {
     "data": {
      "text/plain": [
       "0       150\n",
       "1       150\n",
       "2       150\n",
       "3       150\n",
       "4       150\n",
       "5       150\n",
       "6       150\n",
       "7       150\n",
       "8       150\n",
       "9       150\n",
       "10      150\n",
       "11      150\n",
       "12      150\n",
       "13      150\n",
       "14      150\n",
       "15      150\n",
       "16      150\n",
       "17      150\n",
       "18      125\n",
       "19      125\n",
       "20      125\n",
       "21      125\n",
       "22      125\n",
       "23      125\n",
       "24      125\n",
       "25      125\n",
       "26      125\n",
       "27      125\n",
       "28      125\n",
       "29      150\n",
       "       ... \n",
       "8763    130\n",
       "8764    130\n",
       "8765    130\n",
       "8766    130\n",
       "8767    130\n",
       "8768    130\n",
       "8769    130\n",
       "8770    130\n",
       "8771     47\n",
       "8772     47\n",
       "8773     47\n",
       "8774     47\n",
       "8775     47\n",
       "8776     47\n",
       "8777     47\n",
       "8778     47\n",
       "8779     47\n",
       "8780     47\n",
       "8781     47\n",
       "8782     47\n",
       "8783     47\n",
       "8784     47\n",
       "8785     47\n",
       "8786     47\n",
       "8787     47\n",
       "8788     47\n",
       "8789     47\n",
       "8790     47\n",
       "8791     47\n",
       "8792     47\n",
       "Name: Name, Length: 8793, dtype: int32"
      ]
     },
     "execution_count": 112,
     "metadata": {},
     "output_type": "execute_result"
    }
   ],
   "source": [
    "df['Name']"
   ]
  },
  {
   "cell_type": "code",
   "execution_count": 127,
   "metadata": {},
   "outputs": [
    {
     "name": "stdout",
     "output_type": "stream",
     "text": [
      "<class 'pandas.core.frame.DataFrame'>\n",
      "RangeIndex: 8793 entries, 0 to 8792\n",
      "Data columns (total 17 columns):\n",
      "ID                8793 non-null int32\n",
      "Status            8793 non-null int32\n",
      "Latitude          8793 non-null float64\n",
      "Longitude         8793 non-null float64\n",
      "Maximum.Wind      8793 non-null int64\n",
      "i                 8793 non-null int64\n",
      "n                 8793 non-null int64\n",
      "persistence       8793 non-null float64\n",
      "product           8793 non-null float64\n",
      "Initial.Max       8793 non-null float64\n",
      "speed             8793 non-null float64\n",
      "speed_z           8793 non-null float64\n",
      "speed_m           8793 non-null float64\n",
      "Jday              8793 non-null int64\n",
      "Maximum.Wind_p    8793 non-null float64\n",
      "Latitude_p        8793 non-null float64\n",
      "Longitude_p       8793 non-null float64\n",
      "dtypes: float64(11), int32(2), int64(4)\n",
      "memory usage: 1.1 MB\n"
     ]
    }
   ],
   "source": [
    "X.info()"
   ]
  },
  {
   "cell_type": "code",
   "execution_count": null,
   "metadata": {},
   "outputs": [],
   "source": []
  }
 ],
 "metadata": {
  "kernelspec": {
   "display_name": "Python 3",
   "language": "python",
   "name": "python3"
  },
  "language_info": {
   "codemirror_mode": {
    "name": "ipython",
    "version": 3
   },
   "file_extension": ".py",
   "mimetype": "text/x-python",
   "name": "python",
   "nbconvert_exporter": "python",
   "pygments_lexer": "ipython3",
   "version": "3.7.3"
  }
 },
 "nbformat": 4,
 "nbformat_minor": 2
}
